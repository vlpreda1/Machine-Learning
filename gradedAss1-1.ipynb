{
 "cells": [
  {
   "cell_type": "markdown",
   "metadata": {
    "raw_mimetype": "text/markdown"
   },
   "source": [
    "# Graded Lab Assignment: Logistic Regression (10 points)\n",
    "\n",
    "In this assignment you will classify hand-written digits using logistic regression.\n",
    "\n",
    "The assignment follows Andrew Ng's explanation of Logistic Regression and (re)watching his videos could be useful (Week 3)\n",
    "\n",
    "Publish your notebook (ipynb file) to your Machine Learning repository on Github ON TIME. We will check the last commit on the day of the deadline. \n",
    "\n",
    "### Deadline Tuesday, October 10th, 23:59\n",
    "\n",
    "Do not hand in any other files, the Notebook should contain all your answers.\n",
    "\n",
    "The points for the assignment are distributed as follows:\n",
    "* The implementation\n",
    "    - prediction_function (0.5)\n",
    "    - cost_function (1)\n",
    "    - compute_gradient (1)\n",
    "    - correct double for loop (2)\n",
    "    - correct stop condition (0.5)\n",
    "    - preventing overfitting (1)\n",
    "    - systematically choosing learning rate (1) \n",
    "    - best score analysis (1)\n",
    "    - summary (1)\n",
    "    - comments (0.5)\n",
    "    - code (0.5)\n",
    "    "
   ]
  },
  {
   "cell_type": "code",
   "execution_count": 62,
   "metadata": {
    "collapsed": false
   },
   "outputs": [
    {
     "name": "stdout",
     "output_type": "stream",
     "text": [
      "Populating the interactive namespace from numpy and matplotlib\n"
     ]
    }
   ],
   "source": [
    "%pylab inline"
   ]
  },
  {
   "cell_type": "markdown",
   "metadata": {},
   "source": [
    "Scikit-learn is a toolkit that has several datasets built in. You first need to install the toolkit: http://scikit-learn.org/stable/install.html\n",
    "\n",
    "The MNIST dataset that you will be using for this assignment contains images of hand-written digits that are only 8 by 8 pixels, which means the algorithm (logistic regression) should run on every computer.\n",
    "\n",
    "The code in the cell below shows how to work with the digits dataset and  how to visualize it. As you can see the numbers are not very clear in 8x8 pixels images, this means we cannot expect our logistic regression will have a very high classification score."
   ]
  },
  {
   "cell_type": "code",
   "execution_count": 63,
   "metadata": {
    "collapsed": false
   },
   "outputs": [
    {
     "name": "stdout",
     "output_type": "stream",
     "text": [
      "The numbers shown are: \n",
      " [[0 1 2 3 4]\n",
      " [5 6 7 8 9]]\n"
     ]
    },
    {
     "data": {
      "image/png": "[encoded data removed]",
      "text/plain": [
       "<matplotlib.figure.Figure at 0xea643ab4a8>"
      ]
     },
     "metadata": {},
     "output_type": "display_data"
    }
   ],
   "source": [
    "from sklearn.datasets import load_digits\n",
    "\n",
    "digits = load_digits(n_class=10)\n",
    "\n",
    "#Create two rows with numbers\n",
    "firstrow = hstack(digits.images[:5,:,:])\n",
    "secondrow = hstack(digits.images[5:10,:,:])\n",
    "\n",
    "plt.gray()\n",
    "plt.axis('off')\n",
    "\n",
    "#Show both rows at the same time\n",
    "plt.imshow(np.vstack((firstrow,secondrow)))\n",
    "\n",
    "print (\"The numbers shown are: \\n\", np.vstack((digits.target[:5], digits.target[5:10])))"
   ]
  },
  {
   "cell_type": "markdown",
   "metadata": {},
   "source": [
    "## The implementation\n",
    "\n",
    "You have to implement the next three functions and fill in the body of the loop in order to create a correct implementation of logistic regression. Don't change the definitions of the functions and input parameters.\n",
    "\n",
    "(1) Make sure that you do not overfit by keeping track of the score on the test set and implementing a correct stop condition. \n",
    "(2) Systematically pick a learning rate alpha that makes sure the algorithm learns in a smooth and stable manner (show how you do it). \n",
    "(3) Plot how your score on the test set improves over time. My best score was about 85% correct!\n",
    "(4) Write a short summary of what you have done (and why) to accomplish steps (1), (2) and (3).\n",
    "(5) Make sure to comment your code!"
   ]
  },
  {
   "cell_type": "code",
   "execution_count": 64,
   "metadata": {
    "collapsed": false
   },
   "outputs": [],
   "source": [
    "#Make a prediction function h\n",
    "def prediction_function(x,theta):\n",
    "    h = 1/(1 + exp(- dot(x, theta)))    #the Sigmoid Function\n",
    "    return h"
   ]
  },
  {
   "cell_type": "code",
   "execution_count": 65,
   "metadata": {
    "collapsed": false
   },
   "outputs": [],
   "source": [
    "#Use the output of that function to compute the cost function J:\n",
    "def cost_function(x_predict,y):\n",
    "    \n",
    "    a = dot(- y.T , log(x_predict))    # a is the case where y=1 since b will be 0\n",
    "    b = dot((1 - y).T , log(1 - x_predict))     #b is the case where y=0 sinca a will b 0\n",
    "    c =  1/size(x) * (a - b)    #the cost function according to the formula\n",
    "    \n",
    "    return c\n"
   ]
  },
  {
   "cell_type": "code",
   "execution_count": 66,
   "metadata": {
    "collapsed": false
   },
   "outputs": [],
   "source": [
    "#Create a function that returns the gradient values, given h (x_predict), y and x:\n",
    "def compute_gradient(x_predict, y, x):\n",
    "    dt = 1/size(x) * outer(x.T , (x_predict - y))  #the gradient fct according to the formula\n",
    "    return dt"
   ]
  },
  {
   "cell_type": "code",
   "execution_count": 67,
   "metadata": {
    "collapsed": false
   },
   "outputs": [
    {
     "name": "stdout",
     "output_type": "stream",
     "text": [
      "The score is: 0.888888888889\n"
     ]
    },
    {
     "data": {
      "text/plain": [
       "[<matplotlib.lines.Line2D at 0xea6d6e4a90>]"
      ]
     },
     "execution_count": 67,
     "metadata": {},
     "output_type": "execute_result"
    },
    {
     "data": {
      "image/png": "[encoded data removed]",
      "text/plain": [
       "<matplotlib.figure.Figure at 0xea6e6137b8>"
      ]
     },
     "metadata": {},
     "output_type": "display_data"
    }
   ],
   "source": [
    "#Choose a suitable learning rate\n",
    "alpha = 0.005   # .88 is a pretty good probability i would say, so I think the alpha is suitable (I have also tried different values for alpha and this one gave the best results)\n",
    "iterations = 25\n",
    "\n",
    "theta = np.zeros((64,10))\n",
    "dtheta = np.zeros((64,10))\n",
    "\n",
    "#It is important to check that you're not overfitting by testing your prediction on a testset\n",
    "x = np.reshape(digits.images[:1500],(1500,64))    #training set\n",
    "x_test = np.reshape(digits.images[1500:],(297,64))    #test set\n",
    "\n",
    "target = digits.target[:1500]    #values for the training set\n",
    "target_test = digits.target[1500:]    #values for the test set\n",
    "\n",
    "\n",
    "t = 0    #variable for counting good estimations\n",
    "\n",
    "cost_v = zeros(iterations)    #array that stores the value of the cost fct after every iteration\n",
    "\n",
    "# we apply logistic regression to the training set\n",
    "\n",
    "\n",
    "for i in range(iterations):\n",
    "    for j in range(x.shape[0]):\n",
    "        x_predict = prediction_function(x[j,:],theta)\n",
    "        y = np.zeros(10)\n",
    "        y[target[j]] = 1\n",
    "        cost = cost_function(x_predict,y)\n",
    "        dtheta = compute_gradient(x_predict, y, x[j,:])\n",
    "        theta -= dot(alpha, dtheta)\n",
    "    cost_v[i] = cost\n",
    "\n",
    "#we apply logistic regression to the test set using the thetas we have computed on the traaining set\n",
    "sc = zeros(iterations)\n",
    "\n",
    "for i in range(iterations):\n",
    "    for j in range(x_test.shape[0]):\n",
    "        pred = prediction_function(x_test[j,:], theta)\n",
    "        cost2 = cost_function(pred,y)\n",
    "        if target_test[j] == argmax(pred):\n",
    "            t += 1\n",
    "    sc[i] = t / x_test.shape[0]  #this array retains the score for each iteration\n",
    "    t = 0\n",
    "\n",
    "\n",
    "print('The score is:' , mean(sc))    #prints the score of out test set\n",
    "\n",
    "plt.plot(cost_v)   # we are not overfitting since choosing to update theta in our test sets will give a cost function very similar to this one\n"
   ]
  },
  {
   "cell_type": "markdown",
   "metadata": {},
   "source": [
    "Written assignment:\n",
    "\n",
    "1.  a) the hypothesis will be the dot product between the transpose of the vector ν and  x(i)\n",
    "    b) 1/2m (X dot (theta) - Y).T dot (X dot (theta) - Y)\n",
    "    c)\n",
    "    d) (theta)j := (theta)j - (alpha)(delta)/(delta)(theta)j) * J((theta0), ... ,(theta)j)\n"
   ]
  },
  {
   "cell_type": "code",
   "execution_count": null,
   "metadata": {
    "collapsed": false,
    "scrolled": true
   },
   "outputs": [],
   "source": []
  },
  {
   "cell_type": "code",
   "execution_count": null,
   "metadata": {
    "collapsed": false
   },
   "outputs": [],
   "source": []
  },
  {
   "cell_type": "code",
   "execution_count": null,
   "metadata": {
    "collapsed": false
   },
   "outputs": [],
   "source": [
    "\n",
    "\n"
   ]
  },
  {
   "cell_type": "code",
   "execution_count": null,
   "metadata": {
    "collapsed": false
   },
   "outputs": [],
   "source": []
  },
  {
   "cell_type": "code",
   "execution_count": null,
   "metadata": {
    "collapsed": false
   },
   "outputs": [],
   "source": []
  },
  {
   "cell_type": "code",
   "execution_count": null,
   "metadata": {
    "collapsed": false
   },
   "outputs": [],
   "source": []
  },
  {
   "cell_type": "code",
   "execution_count": null,
   "metadata": {
    "collapsed": false
   },
   "outputs": [],
   "source": []
  },
  {
   "cell_type": "code",
   "execution_count": null,
   "metadata": {
    "collapsed": false
   },
   "outputs": [],
   "source": []
  },
  {
   "cell_type": "code",
   "execution_count": null,
   "metadata": {
    "collapsed": true
   },
   "outputs": [],
   "source": []
  },
  {
   "cell_type": "code",
   "execution_count": null,
   "metadata": {
    "collapsed": true
   },
   "outputs": [],
   "source": []
  }
 ],
 "metadata": {
  "anaconda-cloud": {},
  "celltoolbar": "Raw Cell Format",
  "kernelspec": {
   "display_name": "Python 3",
   "language": "python",
   "name": "python3"
  },
  "language_info": {
   "codemirror_mode": {
    "name": "ipython",
    "version": 3
   },
   "file_extension": ".py",
   "mimetype": "text/x-python",
   "name": "python",
   "nbconvert_exporter": "python",
   "pygments_lexer": "ipython3",
   "version": "3.6.0"
  }
 },
 "nbformat": 4,
 "nbformat_minor": 0
}
