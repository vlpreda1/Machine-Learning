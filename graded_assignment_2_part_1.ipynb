{
 "cells": [
  {
   "cell_type": "markdown",
   "metadata": {},
   "source": [
    "# Graded Lab Assignment 2: Evaluate classifiers (10 points)\n",
    " \n",
    "In this assignment you will optimize and compare the perfomance of a parametric (logistic regression) and non-parametric (k-nearest neighbours) classifier on the MNIST dataset.\n",
    "\n",
    "Publish your notebook (ipynb file) to your Machine Learning repository on Github ON TIME. We will check the last commit on the day of the deadline.  \n",
    "\n",
    "### Deadline Friday, November 17, 23:59.\n",
    "\n",
    "This notebook consists of three parts: design, implementation, results & analysis. \n",
    "We provide you with the design of the experiment and you have to implement it and analyse the results.\n",
    "\n",
    "### Criteria used for grading\n",
    "* Explain and analyse all results.\n",
    "* Make your notebook easy to read. When you are finished take your time to review it!\n",
    "* You do not want to repeat the same chunks of code multiply times. If your need to do so, write a function. \n",
    "* The implementation part of this assignment needs careful design before you start coding. You could start by writing pseudocode.\n",
    "* In this exercise the insights are important. Do not hide them somewhere in the comments in the implementation, but put them in the Analysis part\n",
    "* Take care that all the figures and tables are well labeled and numbered so that you can easily refer to them.\n",
    "* A plot should have a title and axes labels.\n",
    "* You may find that not everything is 100% specified in this assignment. That is correct! Like in real life you probably have to make some choices. Motivate your choices.\n"
   ]
  },
  {
   "cell_type": "markdown",
   "metadata": {},
   "source": [
    "### Grading points distribution\n",
    "\n",
    "* Implementation 5 points\n",
    "* Results and analysis 5 points"
   ]
  },
  {
   "cell_type": "markdown",
   "metadata": {},
   "source": [
    "## Design of the experiment"
   ]
  },
  {
   "cell_type": "markdown",
   "metadata": {},
   "source": [
    "You do not have to keep the order of this design and are allowed to alter it if you are confident.\n",
    "* Import all necessary modules. Try to use as much of the available functions as possible. \n",
    "* Use the provided train and test set of MNIST dataset.\n",
    "* Pre-process data eg. normalize/standardize, reformat, etc.           \n",
    "  Do whatever you think is necessary and motivate your choices.\n",
    "* (1) Train logistic regression and k-nn using default settings.\n",
    "* Use 10-fold cross validation for each classifier to optimize the performance for one parameter: \n",
    "    * consult the documentation on how cross validation works in sklearn (important functions:             cross_val_score(), GridSearchCV()).\n",
    "    * Optimize k for k-nn,\n",
    "    * for logistic regression focus on the regularization parameter,\n",
    "* (2) Train logistic regression and k-nn using optimized parameters.\n",
    "* Show performance on the cross-validation set for (1) and (2) for both classifiers: \n",
    "    * report the average cross validation error rates (alternatively, the average accuracies - it's up to you) and standard deviation,\n",
    "    * plot the average cross valildation errors (or accuracies) for different values of the parameter that you tuned. \n",
    "* Compare performance on the test set for two classifiers:\n",
    "    * produce the classification report for both classifiers, consisting of precision, recall, f1-score. Explain and analyse the results.\n",
    "    * print confusion matrix for both classifiers and compare whether they missclassify the same  classes. Explain and analyse the results.\n",
    "* Discuss your results.\n",
    "* BONUS: only continue with this part if you are confident that your implemention is complete \n",
    "    * tune more parameters of logistic regression\n",
    "    * add additional classifiers (NN, Naive Bayes, decision tree), \n",
    "    * analyse additional dataset (ex. Iris dataset)"
   ]
  },
  {
   "cell_type": "markdown",
   "metadata": {},
   "source": [
    "## Implementation of the experiment"
   ]
  },
  {
   "cell_type": "code",
   "execution_count": 108,
   "metadata": {
    "collapsed": false
   },
   "outputs": [
    {
     "name": "stdout",
     "output_type": "stream",
     "text": [
      "Populating the interactive namespace from numpy and matplotlib\n"
     ]
    },
    {
     "name": "stderr",
     "output_type": "stream",
     "text": [
      "C:\\Users\\Vladimir\\Anaconda3\\lib\\site-packages\\IPython\\core\\magics\\pylab.py:161: UserWarning: pylab import has clobbered these variables: ['std', 'clf', 'mean', 'product', 'f']\n",
      "`%matplotlib` prevents importing * from pylab and numpy\n",
      "  \"\\n`%matplotlib` prevents importing * from pylab and numpy\"\n"
     ]
    },
    {
     "name": "stdout",
     "output_type": "stream",
     "text": [
      "K-Nearest Neighbors with default settings score is:  0.956228956229\n",
      "Logistic Regression with default settings score is:  0.888888888889\n"
     ]
    }
   ],
   "source": [
    "%pylab inline\n",
    "from sklearn.datasets import load_digits\n",
    "from sklearn.preprocessing import StandardScaler \n",
    "from sklearn.linear_model import LogisticRegression\n",
    "from sklearn.model_selection import cross_val_score\n",
    "from sklearn.neighbors import KNeighborsClassifier\n",
    "from sklearn.model_selection import KFold\n",
    "from sklearn.model_selection import GridSearchCV, cross_val_score\n",
    "from sklearn.metrics import classification_report, confusion_matrix\n",
    "from sklearn.tree import DecisionTreeClassifier\n",
    "from sklearn.preprocessing import PolynomialFeatures\n",
    "from sklearn.pipeline import make_pipeline\n",
    "from itertools import product\n",
    "# load mnist dataset and split in train and test set.\n",
    "digits = load_digits()\n",
    "\n",
    "X_train_mnist = reshape(digits.images[:1500],(1500,64))\n",
    "X_test_mnist = reshape(digits.images[1500:],(297,64))\n",
    "y_train_mnist = digits.target[:1500]\n",
    "y_test_mnist = digits.target[1500:]\n",
    "\n",
    "# your implementation here\n",
    "\n",
    "scaler = StandardScaler()\n",
    "scaler.fit_transform(X_train_mnist, y_train_mnist)\n",
    "scaler.fit_transform(X_test_mnist, y_test_mnist)\n",
    "\n",
    "lr = LogisticRegression()\n",
    "knn = KNeighborsClassifier()\n",
    "lr.fit(X_train_mnist, y_train_mnist)\n",
    "knn.fit(X_train_mnist, y_train_mnist)\n",
    "\n",
    "#print(knn.score(X_test_mnist, y_test_mnist))\n",
    "print('K-Nearest Neighbors with default settings score is: ', knn.score(X_test_mnist, y_test_mnist))\n",
    "print('Logistic Regression with default settings score is: ', lr.score(X_test_mnist, y_test_mnist))"
   ]
  },
  {
   "cell_type": "code",
   "execution_count": 101,
   "metadata": {
    "collapsed": false,
    "scrolled": true
   },
   "outputs": [
    {
     "name": "stdout",
     "output_type": "stream",
     "text": [
      "The best number of neighbors is:  {'n_neighbors': 1}\n",
      "0.978 (+/-0.047) for {'n_neighbors': 1}\n",
      "0.973 (+/-0.049) for {'n_neighbors': 2}\n",
      "0.975 (+/-0.045) for {'n_neighbors': 3}\n",
      "0.968 (+/-0.051) for {'n_neighbors': 4}\n",
      "0.969 (+/-0.043) for {'n_neighbors': 5}\n",
      "0.969 (+/-0.043) for {'n_neighbors': 6}\n",
      "0.967 (+/-0.044) for {'n_neighbors': 7}\n",
      "0.965 (+/-0.046) for {'n_neighbors': 8}\n",
      "0.963 (+/-0.054) for {'n_neighbors': 9}\n",
      "0.964 (+/-0.056) for {'n_neighbors': 10}\n",
      "\n",
      "The score on the test set with the best parameters is:  0.946127946128 \n",
      "\n"
     ]
    },
    {
     "data": {
      "text/plain": [
       "<matplotlib.text.Text at 0x1ce52446d8>"
      ]
     },
     "execution_count": 101,
     "metadata": {},
     "output_type": "execute_result"
    },
    {
     "data": {
      "image/png": "[encoded data removed]",
      "text/plain": [
       "<matplotlib.figure.Figure at 0x1ce37c3e10>"
      ]
     },
     "metadata": {},
     "output_type": "display_data"
    }
   ],
   "source": [
    "# 10-fold CV on knn\n",
    "k_range = list(range(1, 11))\n",
    "#weight_options = ['uniform', 'distance']\n",
    "cv_knn = GridSearchCV(estimator=KNeighborsClassifier(), param_grid = dict(n_neighbors=k_range), cv=10, scoring = 'accuracy') #change cv\n",
    "cv_knn.fit(X_train_mnist, y_train_mnist)\n",
    "\n",
    "print('The best number of neighbors is: ', cv_knn.best_params_)\n",
    "\n",
    "new_knn = KNeighborsClassifier(n_neighbors = 1)\n",
    "new_knn.fit(X_train_mnist, y_train_mnist)\n",
    "\n",
    "\n",
    "means_cv_knn = cv_knn.cv_results_['mean_test_score']\n",
    "stds_cv_knn = cv_knn.cv_results_['std_test_score']\n",
    "for mean, std, params in zip(means_cv_knn, stds_cv_knn, cv_knn.cv_results_['params']):\n",
    "    print(\"%0.3f (+/-%0.03f) for %r\" % (mean, std * 2, params))\n",
    "print()\n",
    "\n",
    "knn_test = new_knn.score(X_test_mnist, y_test_mnist)\n",
    "print('The score on the test set with the best parameters is: ', knn_test, '\\n')\n",
    "\n",
    "plt.plot(k_range, means_cv_knn)\n",
    "plt.xlabel(\"Number of neighbors\")\n",
    "plt.ylabel(\"Mean accuracy\")"
   ]
  },
  {
   "cell_type": "code",
   "execution_count": 102,
   "metadata": {
    "collapsed": false,
    "scrolled": false
   },
   "outputs": [
    {
     "data": {
      "text/plain": [
       "<matplotlib.text.Text at 0x1ce3c26b38>"
      ]
     },
     "execution_count": 102,
     "metadata": {},
     "output_type": "execute_result"
    },
    {
     "data": {
      "image/png": "[encoded data removed]",
      "text/plain": [
       "<matplotlib.figure.Figure at 0x1ce3c3d6a0>"
      ]
     },
     "metadata": {},
     "output_type": "display_data"
    }
   ],
   "source": [
    "plt.plot(k_range, stds_cv_knn)\n",
    "plt.xlabel(\"Number of neighbors\")\n",
    "plt.ylabel(\"Mean Standard Deviation\")"
   ]
  },
  {
   "cell_type": "code",
   "execution_count": 103,
   "metadata": {
    "collapsed": false,
    "scrolled": true
   },
   "outputs": [
    {
     "name": "stdout",
     "output_type": "stream",
     "text": [
      "             precision    recall  f1-score   support\n",
      "\n",
      "          0       1.00      1.00      1.00        27\n",
      "          1       0.91      1.00      0.95        31\n",
      "          2       1.00      1.00      1.00        27\n",
      "          3       0.96      0.80      0.87        30\n",
      "          4       1.00      0.91      0.95        33\n",
      "          5       0.88      1.00      0.94        30\n",
      "          6       1.00      1.00      1.00        30\n",
      "          7       0.97      1.00      0.98        30\n",
      "          8       0.92      0.86      0.89        28\n",
      "          9       0.85      0.90      0.88        31\n",
      "\n",
      "avg / total       0.95      0.95      0.95       297\n",
      "\n"
     ]
    },
    {
     "data": {
      "text/plain": [
       "array([[27,  0,  0,  0,  0,  0,  0,  0,  0,  0],\n",
       "       [ 0, 31,  0,  0,  0,  0,  0,  0,  0,  0],\n",
       "       [ 0,  0, 27,  0,  0,  0,  0,  0,  0,  0],\n",
       "       [ 0,  0,  0, 24,  0,  2,  0,  1,  2,  1],\n",
       "       [ 0,  0,  0,  0, 30,  0,  0,  0,  0,  3],\n",
       "       [ 0,  0,  0,  0,  0, 30,  0,  0,  0,  0],\n",
       "       [ 0,  0,  0,  0,  0,  0, 30,  0,  0,  0],\n",
       "       [ 0,  0,  0,  0,  0,  0,  0, 30,  0,  0],\n",
       "       [ 0,  3,  0,  0,  0,  0,  0,  0, 24,  1],\n",
       "       [ 0,  0,  0,  1,  0,  2,  0,  0,  0, 28]])"
      ]
     },
     "execution_count": 103,
     "metadata": {},
     "output_type": "execute_result"
    }
   ],
   "source": [
    "print(classification_report(y_test_mnist, cv_knn.predict(X_test_mnist)))\n",
    "confusion_matrix(y_test_mnist, cv_knn.predict(X_test_mnist))\n",
    "\n",
    "# The confusion matrix shows how well your classifiers performs\n",
    "# The diagonal numbers are well classified values and everithing else is missclassified cases\n",
    "# precision is y = 1 prediction against actual y=1 cases\n",
    "# recall is actual y= 1 cases against"
   ]
  },
  {
   "cell_type": "code",
   "execution_count": 104,
   "metadata": {
    "collapsed": false
   },
   "outputs": [
    {
     "name": "stdout",
     "output_type": "stream",
     "text": [
      "0.911 (+/-0.061) for {'C': 0.0001, 'fit_intercept': True}\n",
      "0.911 (+/-0.061) for {'C': 0.0001, 'fit_intercept': False}\n",
      "0.939 (+/-0.058) for {'C': 0.0005, 'fit_intercept': True}\n",
      "0.938 (+/-0.060) for {'C': 0.0005, 'fit_intercept': False}\n",
      "0.943 (+/-0.055) for {'C': 0.001, 'fit_intercept': True}\n",
      "0.943 (+/-0.055) for {'C': 0.001, 'fit_intercept': False}\n",
      "0.947 (+/-0.050) for {'C': 0.003, 'fit_intercept': True}\n",
      "0.947 (+/-0.050) for {'C': 0.003, 'fit_intercept': False}\n",
      "0.951 (+/-0.043) for {'C': 0.01, 'fit_intercept': True}\n",
      "0.951 (+/-0.043) for {'C': 0.01, 'fit_intercept': False}\n",
      "0.951 (+/-0.039) for {'C': 0.03, 'fit_intercept': True}\n",
      "0.951 (+/-0.039) for {'C': 0.03, 'fit_intercept': False}\n",
      "0.953 (+/-0.036) for {'C': 0.1, 'fit_intercept': True}\n",
      "0.953 (+/-0.036) for {'C': 0.1, 'fit_intercept': False}\n",
      "0.946 (+/-0.038) for {'C': 0.3, 'fit_intercept': True}\n",
      "0.945 (+/-0.038) for {'C': 0.3, 'fit_intercept': False}\n",
      "0.943 (+/-0.036) for {'C': 1, 'fit_intercept': True}\n",
      "0.943 (+/-0.036) for {'C': 1, 'fit_intercept': False}\n",
      "\n",
      "The score on the test set with the best parameters is:  0.892255892256 \n",
      "\n"
     ]
    },
    {
     "data": {
      "text/plain": [
       "<matplotlib.text.Text at 0x1ce5236240>"
      ]
     },
     "execution_count": 104,
     "metadata": {},
     "output_type": "execute_result"
    },
    {
     "data": {
      "image/png": "[encoded data removed]",
      "text/plain": [
       "<matplotlib.figure.Figure at 0x1ce5168978>"
      ]
     },
     "metadata": {},
     "output_type": "display_data"
    }
   ],
   "source": [
    "# 10-fold CV on log reg\n",
    "Cs = [0.0001, 0.0005, 0.001, 0.003, 0.01, 0.03, 0.1, 0.3, 1]\n",
    "p2_grid = dict(C = Cs, fit_intercept = [True, False])  #Also implemented fit_itercept as a feature for log reg\n",
    "cv_lr = GridSearchCV(estimator = LogisticRegression(), param_grid = p2_grid, cv = 10)\n",
    "cv_lr.fit(X_train_mnist, y_train_mnist)\n",
    "\n",
    "means_cv_lr = cv_lr.cv_results_['mean_test_score']\n",
    "stds_cv_lr = cv_lr.cv_results_['std_test_score']\n",
    "for mean, std, params in zip(means_cv_lr, stds_cv_lr, cv_lr.cv_results_['params']):\n",
    "    print(\"%0.3f (+/-%0.03f) for %r\" % (mean, std * 2, params))\n",
    "print()\n",
    "\n",
    "lr_test = cv_lr.score(X_test_mnist, y_test_mnist)\n",
    "print('The score on the test set with the best parameters is: ', lr_test, '\\n')\n",
    "plt.title('Plot of learning rates against accuracies')\n",
    "plt.scatter(Cs, means_cv_lr[::2])\n",
    "plt.scatter(Cs, means_cv_lr[1::2])\n",
    "plt.xlabel(\"Values of learning rates\")\n",
    "plt.ylabel(\"Mean accuracy\")"
   ]
  },
  {
   "cell_type": "code",
   "execution_count": 105,
   "metadata": {
    "collapsed": false
   },
   "outputs": [
    {
     "data": {
      "text/plain": [
       "<matplotlib.text.Text at 0x1ce52e12b0>"
      ]
     },
     "execution_count": 105,
     "metadata": {},
     "output_type": "execute_result"
    },
    {
     "data": {
      "image/png": "[encoded data removed]",
      "text/plain": [
       "<matplotlib.figure.Figure at 0x1ce3cf94a8>"
      ]
     },
     "metadata": {},
     "output_type": "display_data"
    }
   ],
   "source": [
    "plt.title('STD vs accuracy')\n",
    "plt.scatter(Cs, stds_cv_lr[::2])\n",
    "plt.scatter(Cs, stds_cv_lr[1::2])\n",
    "plt.xlabel(\"Values of learning rates\")\n",
    "plt.ylabel(\"Mean Standard Deviation\")"
   ]
  },
  {
   "cell_type": "code",
   "execution_count": 106,
   "metadata": {
    "collapsed": false
   },
   "outputs": [
    {
     "name": "stdout",
     "output_type": "stream",
     "text": [
      "             precision    recall  f1-score   support\n",
      "\n",
      "          0       1.00      0.96      0.98        27\n",
      "          1       0.79      0.84      0.81        31\n",
      "          2       1.00      1.00      1.00        27\n",
      "          3       0.86      0.63      0.73        30\n",
      "          4       0.97      0.91      0.94        33\n",
      "          5       0.91      0.97      0.94        30\n",
      "          6       1.00      1.00      1.00        30\n",
      "          7       0.90      0.90      0.90        30\n",
      "          8       0.68      0.93      0.79        28\n",
      "          9       0.89      0.81      0.85        31\n",
      "\n",
      "avg / total       0.90      0.89      0.89       297\n",
      "\n"
     ]
    },
    {
     "data": {
      "text/plain": [
       "array([[26,  0,  0,  0,  1,  0,  0,  0,  0,  0],\n",
       "       [ 0, 26,  0,  2,  0,  0,  0,  0,  3,  0],\n",
       "       [ 0,  0, 27,  0,  0,  0,  0,  0,  0,  0],\n",
       "       [ 0,  1,  0, 19,  0,  3,  0,  2,  5,  0],\n",
       "       [ 0,  0,  0,  0, 30,  0,  0,  0,  0,  3],\n",
       "       [ 0,  1,  0,  0,  0, 29,  0,  0,  0,  0],\n",
       "       [ 0,  0,  0,  0,  0,  0, 30,  0,  0,  0],\n",
       "       [ 0,  1,  0,  0,  0,  0,  0, 27,  2,  0],\n",
       "       [ 0,  2,  0,  0,  0,  0,  0,  0, 26,  0],\n",
       "       [ 0,  2,  0,  1,  0,  0,  0,  1,  2, 25]])"
      ]
     },
     "execution_count": 106,
     "metadata": {},
     "output_type": "execute_result"
    }
   ],
   "source": [
    "print(classification_report(y_test_mnist, cv_lr.predict(X_test_mnist)))\n",
    "confusion_matrix(y_test_mnist, cv_lr.predict(X_test_mnist))"
   ]
  },
  {
   "cell_type": "code",
   "execution_count": 117,
   "metadata": {
    "collapsed": false
   },
   "outputs": [
    {
     "name": "stdout",
     "output_type": "stream",
     "text": [
      "0.784511784512\n",
      "0.767676767677\n"
     ]
    },
    {
     "data": {
      "text/plain": [
       "array([[26,  0,  0,  0,  0,  0,  0,  1,  0,  0],\n",
       "       [ 0, 18,  3,  1,  2,  0,  1,  0,  5,  1],\n",
       "       [ 1,  1, 21,  2,  0,  0,  0,  1,  1,  0],\n",
       "       [ 0,  1,  1, 16,  1,  2,  0,  4,  5,  0],\n",
       "       [ 0,  0,  0,  0, 30,  0,  0,  2,  0,  1],\n",
       "       [ 0,  0,  0,  1,  0, 27,  1,  0,  0,  1],\n",
       "       [ 0,  0,  1,  0,  1,  1, 25,  0,  2,  0],\n",
       "       [ 0,  1,  0,  2,  0,  1,  0, 25,  0,  1],\n",
       "       [ 1,  3,  1,  1,  3,  0,  0,  1, 18,  0],\n",
       "       [ 0,  2,  0,  1,  0,  1,  0,  3,  2, 22]])"
      ]
     },
     "execution_count": 117,
     "metadata": {},
     "output_type": "execute_result"
    }
   ],
   "source": [
    "DT = DecisionTreeClassifier()\n",
    "DT.fit(X_train_mnist, y_train_mnist)\n",
    "print(DT.score(X_test_mnist, y_test_mnist))\n",
    "prsrt = [True, False]\n",
    "DT_opt = GridSearchCV(estimator = DecisionTreeClassifier(), param_grid = dict(presort = prsrt), cv = 10)\n",
    "DT_opt.fit(X_train_mnist, y_train_mnist)\n",
    "print(DT_opt.score(X_test_mnist, y_test_mnist))\n",
    "confusion_matrix (y_test_mnist, DT_opt.predict(X_test_mnist))"
   ]
  },
  {
   "cell_type": "markdown",
   "metadata": {},
   "source": [
    "## Results and analysis of the experiment"
   ]
  },
  {
   "cell_type": "markdown",
   "metadata": {
    "collapsed": true
   },
   "source": [
    "# discuss the results\n",
    "Unfortunately my best scores after implementing 10-fold CV on the K Nearest Neighbors Classifier are worse then implementing KNN with default settings. I am sure this could probably be fixed by a one-liner but I could not find the problem before the deadline :( I also tried it on Decision tree classifier and still got a lower score :("
   ]
  },
  {
   "cell_type": "code",
   "execution_count": 107,
   "metadata": {
    "collapsed": false
   },
   "outputs": [
    {
     "data": {
      "image/png": "[encoded data removed]",
      "text/plain": [
       "<matplotlib.figure.Figure at 0x1ce39844a8>"
      ]
     },
     "metadata": {},
     "output_type": "display_data"
    }
   ],
   "source": [
    "#plotting for part 2 of the assignment\n",
    "\n",
    "x1 = [1, 1, 2, 3, 4, 4, 4, 7, 8, 8, 8]\n",
    "x2 = [3, 6, 6, 5, 1, 3, 6, 7, 6, 7, 3]\n",
    "X = reshape([item for pair in zip(x1,x2) for item in pair], (11,2))\n",
    "y = [0, 0, 1, 1, 0, 0, 1, 1, 1, 0, 0]\n",
    "            \n",
    "clf1 = DecisionTreeClassifier()\n",
    "clf2 = KNeighborsClassifier()\n",
    "clf3 = LogisticRegression()\n",
    "eclf = make_pipeline(PolynomialFeatures(2), LogisticRegression())\n",
    "\n",
    "clf1.fit(X, y)\n",
    "clf2.fit(X, y)\n",
    "clf3.fit(X, y)\n",
    "eclf.fit(X, y)\n",
    "\n",
    "# Plotting decision regions\n",
    "x_min, x_max = X[:, 0].min() - 1, X[:, 0].max() + 1\n",
    "y_min, y_max = X[:, 1].min() - 1, X[:, 1].max() + 1\n",
    "xx, yy = np.meshgrid(np.arange(x_min, x_max, 0.1),\n",
    "                     np.arange(y_min, y_max, 0.1))\n",
    "\n",
    "f, axarr = plt.subplots(2, 2, sharex='col', sharey='row', figsize=(10, 8))\n",
    "\n",
    "for idx, clf, tt in zip(product([0, 1], [0, 1]),\n",
    "                        [clf1, clf2, clf3, eclf],\n",
    "                        ['Decision Tree ()', 'KNN ()',\n",
    "                         'Log Reg', 'Log Reg with quadratic features']):\n",
    "\n",
    "    Z = clf.predict(np.c_[xx.ravel(), yy.ravel()])\n",
    "    Z = Z.reshape(xx.shape)\n",
    "\n",
    "    axarr[idx[0], idx[1]].contourf(xx, yy, Z, alpha=0.4)\n",
    "    axarr[idx[0], idx[1]].scatter(X[:, 0], X[:, 1], c=y,\n",
    "                                  s=20, edgecolor='k')\n",
    "    axarr[idx[0], idx[1]].set_title(tt)\n",
    "\n",
    "plt.show()\n"
   ]
  },
  {
   "cell_type": "markdown",
   "metadata": {},
   "source": [
    "2) We can notice that on this particular training set the Decision Tree classifier has 100% accuracy as opposed to the others. Given a certain Classifiers perform differently according to the training set that u have. I think combining classifiers could be a good idea when you want to get less variance and bias and improve predictions but this comes with great computational disadvantage, especially if your data is very large"
   ]
  }
 ],
 "metadata": {
  "kernelspec": {
   "display_name": "Python 3",
   "language": "python",
   "name": "python3"
  },
  "language_info": {
   "codemirror_mode": {
    "name": "ipython",
    "version": 3
   },
   "file_extension": ".py",
   "mimetype": "text/x-python",
   "name": "python",
   "nbconvert_exporter": "python",
   "pygments_lexer": "ipython3",
   "version": "3.6.0"
  }
 },
 "nbformat": 4,
 "nbformat_minor": 2
}
